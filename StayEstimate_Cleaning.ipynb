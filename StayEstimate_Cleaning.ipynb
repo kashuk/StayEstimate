{
 "cells": [
  {
   "cell_type": "markdown",
   "metadata": {},
   "source": [
    "# StayEstimate - Data Cleaning\n",
    "Download, merge, and clean the data \n",
    "\n"
   ]
  },
  {
   "cell_type": "markdown",
   "metadata": {},
   "source": [
    "### Data Source: Health Data NY\n",
    "Hospital Inpatient Discharges (SPARCS De-Identified):\n",
    "<a href=\"https://health.data.ny.gov/Health/Hospital-Inpatient-Discharges-SPARCS-De-Identified/q6hk-esrj\">2009 | </a>\n",
    "<a href=\"https://health.data.ny.gov/Health/Hospital-Inpatient-Discharges-SPARCS-De-Identified/mtfm-rxf4\">2010 | </a>\n",
    "<a href=\"https://health.data.ny.gov/Health/Hospital-Inpatient-Discharges-SPARCS-De-Identified/pyhr-5eas\">2011 | </a>\n",
    "<a href=\"https://health.data.ny.gov/Health/Hospital-Inpatient-Discharges-SPARCS-De-Identified/u4ud-w55t\">2012 | </a>\n",
    "<a href=\"https://health.data.ny.gov/Health/Hospital-Inpatient-Discharges-SPARCS-De-Identified/npsr-cm47\">2013</a>"
   ]
  },
  {
   "cell_type": "markdown",
   "metadata": {},
   "source": [
    "## Initialize Paths"
   ]
  },
  {
   "cell_type": "code",
   "execution_count": 1,
   "metadata": {
    "collapsed": true
   },
   "outputs": [],
   "source": [
    "#Input Path\n",
    "Input='Input'\n",
    "#Output Path\n",
    "Output='Output'\n",
    "#Transitional Path\n",
    "Trans='Transitional'"
   ]
  },
  {
   "cell_type": "markdown",
   "metadata": {},
   "source": [
    "## Import Libraries "
   ]
  },
  {
   "cell_type": "code",
   "execution_count": 2,
   "metadata": {
    "collapsed": true
   },
   "outputs": [],
   "source": [
    "#######      Libraries    #######\n",
    "from os.path import join\n",
    "import pandas as pd\n",
    "from pandas import DataFrame, Series"
   ]
  },
  {
   "cell_type": "markdown",
   "metadata": {},
   "source": [
    "# Data Cleaning\n"
   ]
  },
  {
   "cell_type": "markdown",
   "metadata": {
    "collapsed": true
   },
   "source": [
    "###  Load, Merge, and Clean"
   ]
  },
  {
   "cell_type": "markdown",
   "metadata": {},
   "source": [
    "#### load 5 years"
   ]
  },
  {
   "cell_type": "code",
   "execution_count": 4,
   "metadata": {
    "collapsed": false
   },
   "outputs": [
    {
     "name": "stdout",
     "output_type": "stream",
     "text": [
      "Year 2009 is Loaded!\n",
      "Year 2010 is Loaded!\n",
      "Year 2011 is Loaded!\n",
      "Year 2012 is Loaded!\n",
      "Year 2013 is Loaded!\n"
     ]
    }
   ],
   "source": [
    "dfs=[]\n",
    "for y in range(2009,2014):\n",
    "    dfs.append(pd.read_csv(join(Input,'Hospital_Inpatient_Discharges__SPARCS_De-Identified___%d.csv'%y)\n",
    "                                 ,low_memory=False))\n",
    "    print \"Year %d is Loaded!\"%y"
   ]
  },
  {
   "cell_type": "markdown",
   "metadata": {},
   "source": [
    "#### merge the 5 years"
   ]
  },
  {
   "cell_type": "code",
   "execution_count": 5,
   "metadata": {
    "collapsed": false
   },
   "outputs": [],
   "source": [
    "#merge 5 years\n",
    "df_5yr=pd.concat(dfs)"
   ]
  },
  {
   "cell_type": "markdown",
   "metadata": {},
   "source": [
    "#### show all columns before cleaning"
   ]
  },
  {
   "cell_type": "code",
   "execution_count": 6,
   "metadata": {
    "collapsed": false
   },
   "outputs": [
    {
     "data": {
      "text/plain": [
       "Index([u'APR DRG Code', u'APR DRG Description', u'APR MDC Code',\n",
       "       u'APR MDC Description', u'APR Medical Surgical Description',\n",
       "       u'APR Risk of Mortality', u'APR Severity of Illness Code',\n",
       "       u'APR Severity of Illness Description', u'Abortion Edit Indicator',\n",
       "       u'Admit Day of Week', u'Age Group',\n",
       "       u'Attending Provider License Number', u'Birth Weight',\n",
       "       u'CCS Diagnosis Code', u'CCS Diagnosis Description',\n",
       "       u'CCS Procedure Code', u'CCS Procedure Description',\n",
       "       u'Discharge Day of Week', u'Discharge Year',\n",
       "       u'Emergency Department Indicator', u'Ethnicity', u'Facility ID',\n",
       "       u'Facility Id', u'Facility Name', u'Gender', u'Health Service Area',\n",
       "       u'Hospital County', u'Length of Stay', u'Operating Certificate Number',\n",
       "       u'Operating Provider License Number', u'Other Provider License Number',\n",
       "       u'Patient Disposition', u'Race', u'Source of Payment 1',\n",
       "       u'Source of Payment 2', u'Source of Payment 3', u'Total Charges',\n",
       "       u'Total Costs', u'Type of Admission', u'Zip Code - 3 digits'],\n",
       "      dtype='object')"
      ]
     },
     "execution_count": 6,
     "metadata": {},
     "output_type": "execute_result"
    }
   ],
   "source": [
    "df_5yr.columns"
   ]
  },
  {
   "cell_type": "markdown",
   "metadata": {},
   "source": [
    "#### Cleanup the Data"
   ]
  },
  {
   "cell_type": "code",
   "execution_count": 13,
   "metadata": {
    "collapsed": false
   },
   "outputs": [],
   "source": [
    "#Change \"120+\" string to 121 integer for simplicity\n",
    "df_5yr['Stay_Length']=df_5yr['Length of Stay'].replace(['120 +'],[121]).astype('int')\n",
    "\n",
    "#create a cleaned df with relevant columns\n",
    "df_5yr_cleaned=df_5yr[['Gender','Age Group','Race','APR Severity of Illness Description',\n",
    "                       'APR Risk of Mortality','APR DRG Description','APR Medical Surgical Description',\n",
    "                       'Type of Admission','Admit Day of Week','Patient Disposition',\n",
    "                       'Discharge Day of Week','Total Charges','Discharge Year','Stay_Length']]\n",
    "#index as Diagnosis\n",
    "df_5yr_cleaned.index=df_5yr['CCS Diagnosis Description']\n",
    "\n",
    "#shorten column names\n",
    "df_5yr_cleaned.rename(columns={'Age Group':'Age','APR Severity of Illness Description':'Severity',\n",
    "                   'APR Medical Surgical Description':'MedicalSurgical','Discharge Year':'Year',\n",
    "                   'Type of Admission':'Admission','APR Risk of Mortality':'Mortality',\n",
    "                   'APR DRG Description':'DRG','Admit Day of Week':'AdmitDay','Discharge Day of Week':'DischDay',\n",
    "                   'Patient Disposition':'Disposition','Total Charges':'Total_Charges'} ,inplace=True)"
   ]
  },
  {
   "cell_type": "code",
   "execution_count": 14,
   "metadata": {
    "collapsed": false
   },
   "outputs": [
    {
     "name": "stdout",
     "output_type": "stream",
     "text": [
      "Number of records in Original dataset:12820613\n",
      "Number of records in Cleaned dataset:12694980\n"
     ]
    },
    {
     "name": "stderr",
     "output_type": "stream",
     "text": [
      "/Library/Python/2.7/site-packages/ipykernel/__main__.py:2: SettingWithCopyWarning: \n",
      "A value is trying to be set on a copy of a slice from a DataFrame\n",
      "\n",
      "See the the caveats in the documentation: http://pandas.pydata.org/pandas-docs/stable/indexing.html#indexing-view-versus-copy\n",
      "  from ipykernel import kernelapp as app\n"
     ]
    }
   ],
   "source": [
    "#drop missing data\n",
    "df_5yr_cleaned.dropna(inplace=True)\n",
    "df_5yr_cleaned=(df_5yr_cleaned[(df_5yr_cleaned['Gender']!='U')\n",
    "   &(df_5yr_cleaned['Admission']!='Not Available')   \n",
    "   &(df_5yr_cleaned['Race']!='Unknown')\n",
    "   &(pd.notnull(df_5yr_cleaned.index))\n",
    "  ])\n",
    "\n",
    "print \"Number of records in Original dataset:%d\"%len(df_5yr)\n",
    "print \"Number of records in Cleaned dataset:%d\"%len(df_5yr_cleaned)"
   ]
  },
  {
   "cell_type": "markdown",
   "metadata": {},
   "source": [
    "#### show all columns after cleaning"
   ]
  },
  {
   "cell_type": "code",
   "execution_count": 15,
   "metadata": {
    "collapsed": false
   },
   "outputs": [
    {
     "data": {
      "text/plain": [
       "Index([u'Gender', u'Age', u'Race', u'Severity', u'Mortality', u'DRG',\n",
       "       u'MedicalSurgical', u'Admission', u'AdmitDay', u'Disposition',\n",
       "       u'DischDay', u'Total_Charges', u'Year', u'Stay_Length'],\n",
       "      dtype='object')"
      ]
     },
     "execution_count": 15,
     "metadata": {},
     "output_type": "execute_result"
    }
   ],
   "source": [
    "df_5yr_cleaned.columns"
   ]
  },
  {
   "cell_type": "markdown",
   "metadata": {},
   "source": [
    "### Store Cleaned Data "
   ]
  },
  {
   "cell_type": "code",
   "execution_count": 24,
   "metadata": {
    "collapsed": false
   },
   "outputs": [],
   "source": [
    "df_5yr_cleaned.to_csv(join(Trans,'df_5yr_cleaned.csv'))"
   ]
  },
  {
   "cell_type": "code",
   "execution_count": null,
   "metadata": {
    "collapsed": true
   },
   "outputs": [],
   "source": []
  }
 ],
 "metadata": {
  "kernelspec": {
   "display_name": "Python 2",
   "language": "python",
   "name": "python2"
  },
  "language_info": {
   "codemirror_mode": {
    "name": "ipython",
    "version": 2
   },
   "file_extension": ".py",
   "mimetype": "text/x-python",
   "name": "python",
   "nbconvert_exporter": "python",
   "pygments_lexer": "ipython2",
   "version": "2.7.6"
  }
 },
 "nbformat": 4,
 "nbformat_minor": 0
}
